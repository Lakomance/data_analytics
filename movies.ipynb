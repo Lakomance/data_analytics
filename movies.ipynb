{
 "cells": [
  {
   "cell_type": "markdown",
   "metadata": {},
   "source": [
    "# 1. Загрузка датасета с помощью библиотеки Pandas"
   ]
  },
  {
   "cell_type": "code",
   "execution_count": 209,
   "metadata": {},
   "outputs": [],
   "source": [
    "import pandas as pd\n",
    "df = pd.read_csv('./movies.csv', sep=';')"
   ]
  },
  {
   "cell_type": "markdown",
   "metadata": {},
   "source": [
    "# 2. Вывод первых 20 строк с помощью метода head"
   ]
  },
  {
   "cell_type": "code",
   "execution_count": 210,
   "metadata": {},
   "outputs": [
    {
     "data": {
      "text/html": [
       "<div>\n",
       "<style scoped>\n",
       "    .dataframe tbody tr th:only-of-type {\n",
       "        vertical-align: middle;\n",
       "    }\n",
       "\n",
       "    .dataframe tbody tr th {\n",
       "        vertical-align: top;\n",
       "    }\n",
       "\n",
       "    .dataframe thead th {\n",
       "        text-align: right;\n",
       "    }\n",
       "</style>\n",
       "<table border=\"1\" class=\"dataframe\">\n",
       "  <thead>\n",
       "    <tr style=\"text-align: right;\">\n",
       "      <th></th>\n",
       "      <th>title</th>\n",
       "      <th>release_year</th>\n",
       "      <th>score</th>\n",
       "      <th>number_of_votes</th>\n",
       "      <th>duration</th>\n",
       "      <th>main_genre</th>\n",
       "      <th>main_production</th>\n",
       "    </tr>\n",
       "  </thead>\n",
       "  <tbody>\n",
       "    <tr>\n",
       "      <th>0</th>\n",
       "      <td>David Attenborough: A Life on Our Planet</td>\n",
       "      <td>2020.0</td>\n",
       "      <td>9.0</td>\n",
       "      <td>31180.0</td>\n",
       "      <td>83</td>\n",
       "      <td>documentary</td>\n",
       "      <td>GB</td>\n",
       "    </tr>\n",
       "    <tr>\n",
       "      <th>1</th>\n",
       "      <td>Inception</td>\n",
       "      <td>2010.0</td>\n",
       "      <td>8.8</td>\n",
       "      <td>2268288.0</td>\n",
       "      <td>148</td>\n",
       "      <td>scifi</td>\n",
       "      <td>GB</td>\n",
       "    </tr>\n",
       "    <tr>\n",
       "      <th>2</th>\n",
       "      <td>Forrest Gump</td>\n",
       "      <td>1994.0</td>\n",
       "      <td>8.8</td>\n",
       "      <td>1994599.0</td>\n",
       "      <td>142</td>\n",
       "      <td>drama</td>\n",
       "      <td>US</td>\n",
       "    </tr>\n",
       "    <tr>\n",
       "      <th>3</th>\n",
       "      <td>Anbe Sivam</td>\n",
       "      <td>2003.0</td>\n",
       "      <td>8.7</td>\n",
       "      <td>20595.0</td>\n",
       "      <td>160</td>\n",
       "      <td>comedy</td>\n",
       "      <td>IN</td>\n",
       "    </tr>\n",
       "    <tr>\n",
       "      <th>4</th>\n",
       "      <td>Bo Burnham: Inside</td>\n",
       "      <td>2021.0</td>\n",
       "      <td>8.7</td>\n",
       "      <td>44074.0</td>\n",
       "      <td>87</td>\n",
       "      <td>comedy</td>\n",
       "      <td>US</td>\n",
       "    </tr>\n",
       "    <tr>\n",
       "      <th>5</th>\n",
       "      <td>Saving Private Ryan</td>\n",
       "      <td>1998.0</td>\n",
       "      <td>8.6</td>\n",
       "      <td>1346020.0</td>\n",
       "      <td>169</td>\n",
       "      <td>drama</td>\n",
       "      <td>US</td>\n",
       "    </tr>\n",
       "    <tr>\n",
       "      <th>6</th>\n",
       "      <td>Django Unchained</td>\n",
       "      <td>2012.0</td>\n",
       "      <td>8.4</td>\n",
       "      <td>1472668.0</td>\n",
       "      <td>165</td>\n",
       "      <td>western</td>\n",
       "      <td>US</td>\n",
       "    </tr>\n",
       "    <tr>\n",
       "      <th>7</th>\n",
       "      <td>Dangal</td>\n",
       "      <td>2016.0</td>\n",
       "      <td>8.4</td>\n",
       "      <td>180247.0</td>\n",
       "      <td>161</td>\n",
       "      <td>action</td>\n",
       "      <td>IN</td>\n",
       "    </tr>\n",
       "    <tr>\n",
       "      <th>8</th>\n",
       "      <td>Bo Burnham: Make Happy</td>\n",
       "      <td>2016.0</td>\n",
       "      <td>8.4</td>\n",
       "      <td>14356.0</td>\n",
       "      <td>60</td>\n",
       "      <td>comedy</td>\n",
       "      <td>US</td>\n",
       "    </tr>\n",
       "    <tr>\n",
       "      <th>9</th>\n",
       "      <td>Louis C.K.: Hilarious</td>\n",
       "      <td>2010.0</td>\n",
       "      <td>8.4</td>\n",
       "      <td>11973.0</td>\n",
       "      <td>84</td>\n",
       "      <td>comedy</td>\n",
       "      <td>US</td>\n",
       "    </tr>\n",
       "    <tr>\n",
       "      <th>10</th>\n",
       "      <td>Dave Chappelle: Sticks &amp; Stones</td>\n",
       "      <td>2019.0</td>\n",
       "      <td>8.4</td>\n",
       "      <td>25687.0</td>\n",
       "      <td>65</td>\n",
       "      <td>comedy</td>\n",
       "      <td>US</td>\n",
       "    </tr>\n",
       "    <tr>\n",
       "      <th>11</th>\n",
       "      <td>3 Idiots</td>\n",
       "      <td>2009.0</td>\n",
       "      <td>8.4</td>\n",
       "      <td>385782.0</td>\n",
       "      <td>170</td>\n",
       "      <td>comedy</td>\n",
       "      <td>IN</td>\n",
       "    </tr>\n",
       "    <tr>\n",
       "      <th>12</th>\n",
       "      <td>Black Friday</td>\n",
       "      <td>2004.0</td>\n",
       "      <td>8.4</td>\n",
       "      <td>20611.0</td>\n",
       "      <td>143</td>\n",
       "      <td>crime</td>\n",
       "      <td>IN</td>\n",
       "    </tr>\n",
       "    <tr>\n",
       "      <th>13</th>\n",
       "      <td>Super Deluxe</td>\n",
       "      <td>2019.0</td>\n",
       "      <td>8.4</td>\n",
       "      <td>13680.0</td>\n",
       "      <td>176</td>\n",
       "      <td>thriller</td>\n",
       "      <td>IN</td>\n",
       "    </tr>\n",
       "    <tr>\n",
       "      <th>14</th>\n",
       "      <td>Winter on Fire: Ukraine's Fight for Freedom</td>\n",
       "      <td>2015.0</td>\n",
       "      <td>8.3</td>\n",
       "      <td>17710.0</td>\n",
       "      <td>98</td>\n",
       "      <td>documentary</td>\n",
       "      <td>UA</td>\n",
       "    </tr>\n",
       "    <tr>\n",
       "      <th>15</th>\n",
       "      <td>Once Upon a Time in America</td>\n",
       "      <td>1984.0</td>\n",
       "      <td>8.3</td>\n",
       "      <td>342335.0</td>\n",
       "      <td>229</td>\n",
       "      <td>drama</td>\n",
       "      <td>US</td>\n",
       "    </tr>\n",
       "    <tr>\n",
       "      <th>16</th>\n",
       "      <td>Taxi Driver</td>\n",
       "      <td>1976.0</td>\n",
       "      <td>8.3</td>\n",
       "      <td>795222.0</td>\n",
       "      <td>113</td>\n",
       "      <td>crime</td>\n",
       "      <td>US</td>\n",
       "    </tr>\n",
       "    <tr>\n",
       "      <th>17</th>\n",
       "      <td>Like Stars on Earth</td>\n",
       "      <td>2007.0</td>\n",
       "      <td>8.3</td>\n",
       "      <td>188234.0</td>\n",
       "      <td>165</td>\n",
       "      <td>drama</td>\n",
       "      <td>IN</td>\n",
       "    </tr>\n",
       "    <tr>\n",
       "      <th>18</th>\n",
       "      <td>Bo Burnham: What.</td>\n",
       "      <td>2013.0</td>\n",
       "      <td>8.3</td>\n",
       "      <td>11488.0</td>\n",
       "      <td>60</td>\n",
       "      <td>comedy</td>\n",
       "      <td>US</td>\n",
       "    </tr>\n",
       "    <tr>\n",
       "      <th>19</th>\n",
       "      <td>Full Metal Jacket</td>\n",
       "      <td>1987.0</td>\n",
       "      <td>8.3</td>\n",
       "      <td>723306.0</td>\n",
       "      <td>116</td>\n",
       "      <td>drama</td>\n",
       "      <td>GB</td>\n",
       "    </tr>\n",
       "  </tbody>\n",
       "</table>\n",
       "</div>"
      ],
      "text/plain": [
       "                                          title  release_year  score  \\\n",
       "0      David Attenborough: A Life on Our Planet        2020.0    9.0   \n",
       "1                                     Inception        2010.0    8.8   \n",
       "2                                  Forrest Gump        1994.0    8.8   \n",
       "3                                    Anbe Sivam        2003.0    8.7   \n",
       "4                            Bo Burnham: Inside        2021.0    8.7   \n",
       "5                           Saving Private Ryan        1998.0    8.6   \n",
       "6                              Django Unchained        2012.0    8.4   \n",
       "7                                        Dangal        2016.0    8.4   \n",
       "8                        Bo Burnham: Make Happy        2016.0    8.4   \n",
       "9                         Louis C.K.: Hilarious        2010.0    8.4   \n",
       "10              Dave Chappelle: Sticks & Stones        2019.0    8.4   \n",
       "11                                     3 Idiots        2009.0    8.4   \n",
       "12                                 Black Friday        2004.0    8.4   \n",
       "13                                 Super Deluxe        2019.0    8.4   \n",
       "14  Winter on Fire: Ukraine's Fight for Freedom        2015.0    8.3   \n",
       "15                  Once Upon a Time in America        1984.0    8.3   \n",
       "16                                  Taxi Driver        1976.0    8.3   \n",
       "17                          Like Stars on Earth        2007.0    8.3   \n",
       "18                            Bo Burnham: What.        2013.0    8.3   \n",
       "19                            Full Metal Jacket        1987.0    8.3   \n",
       "\n",
       "    number_of_votes  duration   main_genre main_production  \n",
       "0           31180.0        83  documentary              GB  \n",
       "1         2268288.0       148        scifi              GB  \n",
       "2         1994599.0       142        drama              US  \n",
       "3           20595.0       160       comedy              IN  \n",
       "4           44074.0        87       comedy              US  \n",
       "5         1346020.0       169        drama              US  \n",
       "6         1472668.0       165      western              US  \n",
       "7          180247.0       161       action              IN  \n",
       "8           14356.0        60       comedy              US  \n",
       "9           11973.0        84       comedy              US  \n",
       "10          25687.0        65       comedy              US  \n",
       "11         385782.0       170       comedy              IN  \n",
       "12          20611.0       143        crime              IN  \n",
       "13          13680.0       176     thriller              IN  \n",
       "14          17710.0        98  documentary              UA  \n",
       "15         342335.0       229        drama              US  \n",
       "16         795222.0       113        crime              US  \n",
       "17         188234.0       165        drama              IN  \n",
       "18          11488.0        60       comedy              US  \n",
       "19         723306.0       116        drama              GB  "
      ]
     },
     "execution_count": 210,
     "metadata": {},
     "output_type": "execute_result"
    }
   ],
   "source": [
    "df.head(20)"
   ]
  },
  {
   "cell_type": "markdown",
   "metadata": {},
   "source": [
    "# 3. Выполнить обзор данных - описать столбцы и вашу предметную область"
   ]
  },
  {
   "cell_type": "markdown",
   "metadata": {},
   "source": [
    "Предметная область - набор данных о фильмах. \n",
    "Столбцы: название фильма, год выхода фильма, оценка, количество голосов, длительность фильма, жанр, производство"
   ]
  },
  {
   "cell_type": "markdown",
   "metadata": {},
   "source": [
    "# 4. С помощью метода info оценить данные (есть ли пропуски, сколько всего строк, какие типы данных у столбцов)"
   ]
  },
  {
   "cell_type": "code",
   "execution_count": 211,
   "metadata": {},
   "outputs": [
    {
     "name": "stdout",
     "output_type": "stream",
     "text": [
      "<class 'pandas.core.frame.DataFrame'>\n",
      "RangeIndex: 389 entries, 0 to 388\n",
      "Data columns (total 7 columns):\n",
      " #   Column           Non-Null Count  Dtype  \n",
      "---  ------           --------------  -----  \n",
      " 0   title            384 non-null    object \n",
      " 1   release_year     387 non-null    float64\n",
      " 2   score            386 non-null    float64\n",
      " 3   number_of_votes  388 non-null    float64\n",
      " 4   duration         389 non-null    int64  \n",
      " 5   main_genre       389 non-null    object \n",
      " 6   main_production  388 non-null    object \n",
      "dtypes: float64(3), int64(1), object(3)\n",
      "memory usage: 21.4+ KB\n"
     ]
    }
   ],
   "source": [
    "df.info()"
   ]
  },
  {
   "cell_type": "markdown",
   "metadata": {},
   "source": [
    "Пропуски присутствуют в:\n",
    "- title: 5 пропусков\n",
    "- release_year: 2 пропуска\n",
    "- score: 3 пропуска\n",
    "- number_of_votes: 1 пропуск\n",
    "- main_production: 1 пропуск"
   ]
  },
  {
   "cell_type": "markdown",
   "metadata": {},
   "source": [
    "# 5. Применить describe. С помощью describe оценить числовые столбцы (если они есть)."
   ]
  },
  {
   "cell_type": "code",
   "execution_count": 212,
   "metadata": {},
   "outputs": [
    {
     "data": {
      "text/html": [
       "<div>\n",
       "<style scoped>\n",
       "    .dataframe tbody tr th:only-of-type {\n",
       "        vertical-align: middle;\n",
       "    }\n",
       "\n",
       "    .dataframe tbody tr th {\n",
       "        vertical-align: top;\n",
       "    }\n",
       "\n",
       "    .dataframe thead th {\n",
       "        text-align: right;\n",
       "    }\n",
       "</style>\n",
       "<table border=\"1\" class=\"dataframe\">\n",
       "  <thead>\n",
       "    <tr style=\"text-align: right;\">\n",
       "      <th></th>\n",
       "      <th>release_year</th>\n",
       "      <th>score</th>\n",
       "      <th>number_of_votes</th>\n",
       "      <th>duration</th>\n",
       "    </tr>\n",
       "  </thead>\n",
       "  <tbody>\n",
       "    <tr>\n",
       "      <th>count</th>\n",
       "      <td>387.000000</td>\n",
       "      <td>386.000000</td>\n",
       "      <td>3.880000e+02</td>\n",
       "      <td>389.000000</td>\n",
       "    </tr>\n",
       "    <tr>\n",
       "      <th>mean</th>\n",
       "      <td>2010.976744</td>\n",
       "      <td>7.512176</td>\n",
       "      <td>1.391523e+05</td>\n",
       "      <td>123.352185</td>\n",
       "    </tr>\n",
       "    <tr>\n",
       "      <th>std</th>\n",
       "      <td>10.805726</td>\n",
       "      <td>0.443870</td>\n",
       "      <td>2.365279e+05</td>\n",
       "      <td>28.304800</td>\n",
       "    </tr>\n",
       "    <tr>\n",
       "      <th>min</th>\n",
       "      <td>1954.000000</td>\n",
       "      <td>6.900000</td>\n",
       "      <td>1.013900e+04</td>\n",
       "      <td>28.000000</td>\n",
       "    </tr>\n",
       "    <tr>\n",
       "      <th>25%</th>\n",
       "      <td>2007.500000</td>\n",
       "      <td>7.100000</td>\n",
       "      <td>2.055375e+04</td>\n",
       "      <td>104.000000</td>\n",
       "    </tr>\n",
       "    <tr>\n",
       "      <th>50%</th>\n",
       "      <td>2014.000000</td>\n",
       "      <td>7.400000</td>\n",
       "      <td>4.606950e+04</td>\n",
       "      <td>122.000000</td>\n",
       "    </tr>\n",
       "    <tr>\n",
       "      <th>75%</th>\n",
       "      <td>2018.000000</td>\n",
       "      <td>7.800000</td>\n",
       "      <td>1.551585e+05</td>\n",
       "      <td>139.000000</td>\n",
       "    </tr>\n",
       "    <tr>\n",
       "      <th>max</th>\n",
       "      <td>2022.000000</td>\n",
       "      <td>9.000000</td>\n",
       "      <td>2.268288e+06</td>\n",
       "      <td>229.000000</td>\n",
       "    </tr>\n",
       "  </tbody>\n",
       "</table>\n",
       "</div>"
      ],
      "text/plain": [
       "       release_year       score  number_of_votes    duration\n",
       "count    387.000000  386.000000     3.880000e+02  389.000000\n",
       "mean    2010.976744    7.512176     1.391523e+05  123.352185\n",
       "std       10.805726    0.443870     2.365279e+05   28.304800\n",
       "min     1954.000000    6.900000     1.013900e+04   28.000000\n",
       "25%     2007.500000    7.100000     2.055375e+04  104.000000\n",
       "50%     2014.000000    7.400000     4.606950e+04  122.000000\n",
       "75%     2018.000000    7.800000     1.551585e+05  139.000000\n",
       "max     2022.000000    9.000000     2.268288e+06  229.000000"
      ]
     },
     "execution_count": 212,
     "metadata": {},
     "output_type": "execute_result"
    }
   ],
   "source": [
    "df.describe()"
   ]
  },
  {
   "cell_type": "markdown",
   "metadata": {},
   "source": [
    "Оценка числовых столбцов:\n",
    "1. release year: \n",
    "    - Средний год выпуска фильмов (mean) - 2010.97\n",
    "    - Диапазон лет выпуска: от 1954 до 2022\n",
    "    - Большинство фильмов выпущены после 2001 года (75-й перцентиль = 2018)\n",
    "\n",
    "2. score:\n",
    "    - Средний рейтинг фильмов - 7.5\n",
    "    - Все фильмы имеют достаточно высокие оценки (от 6.9 до 9)\n",
    "    - Медиана (50-й перцентиль) вполне высокая - 7.4\n",
    "\n",
    "3. number_of_votes:\n",
    "    - Среднее количество голосов - 1.391523e+05\n",
    "    - Значительное расхождение в количестве голосов (стандартное отклонение = 2.365279e+05)\n",
    "    - Максимальное количество голосов - 2.268288e+06\n",
    "\n",
    "4. duration:\n",
    "    - Средняя продолжительность фильмов: 123.35 минут\n",
    "    - Диапазон продолжительности: от 28 до 229 минут\n",
    "    - Большинство фильмов длится от 104 до 139 минут"
   ]
  },
  {
   "cell_type": "markdown",
   "metadata": {},
   "source": [
    "# 6. Вывести на экран названия столбцов с помощью df.columns. Выявить проблемы с названиями, если они есть. При необходимости переименовать столбцы. Если проблемы не обнаружены также дать пояснения."
   ]
  },
  {
   "cell_type": "code",
   "execution_count": 213,
   "metadata": {},
   "outputs": [
    {
     "name": "stdout",
     "output_type": "stream",
     "text": [
      "Index(['title', 'release_year', 'score', 'number_of_votes', 'duration',\n",
      "       'main_genre', 'main_production'],\n",
      "      dtype='object')\n",
      "Название столбца 'title состоит только из английских букв'\n",
      "Название столбца 'release_year состоит только из английских букв'\n",
      "Название столбца 'score состоит только из английских букв'\n",
      "Название столбца 'number_of_votes состоит только из английских букв'\n",
      "Название столбца 'duration состоит только из английских букв'\n",
      "Название столбца 'main_genre состоит только из английских букв'\n",
      "Название столбца 'main_production состоит только из английских букв'\n"
     ]
    }
   ],
   "source": [
    "import re\n",
    "\n",
    "def check_column_names(columns):\n",
    "    for column in columns:\n",
    "        if not re.match(\"^[A-Za-z0-9_]+$\", column):\n",
    "            print(f\"Название столбца '{column} содержит неанглийские буквы или спец символы'\")\n",
    "        else:\n",
    "            print(f\"Название столбца '{column} состоит только из английских букв'\")\n",
    "\n",
    "print(df.columns)\n",
    "check_column_names(df.columns)"
   ]
  },
  {
   "cell_type": "markdown",
   "metadata": {},
   "source": [
    "Проблемы не обнаружены.\n",
    "Пояснения:\n",
    "1. Названия столбцов написаны в стиле snake_case, что является общепринятой практикой наименования переменных и объектов в Python\n",
    "2. Названия столбцов понятны и точно описывают содержимое столбца\n",
    "3. Отсутствуют опечатки, пробелы и прочие лишние символы в наименованиях столбцов\n",
    "4. Наименования столбцов состоят исключительно из английских символов."
   ]
  },
  {
   "cell_type": "markdown",
   "metadata": {},
   "source": [
    "# 7. Проверить данные на наличие пропусков и устранить их, если они есть (пропуски необходимо либо удалить, либо заменить каким-то значением). Не забудьте пояснения!"
   ]
  },
  {
   "cell_type": "code",
   "execution_count": 214,
   "metadata": {},
   "outputs": [
    {
     "name": "stdout",
     "output_type": "stream",
     "text": [
      "title              5\n",
      "release_year       2\n",
      "score              3\n",
      "number_of_votes    1\n",
      "duration           0\n",
      "main_genre         0\n",
      "main_production    1\n",
      "dtype: int64\n"
     ]
    }
   ],
   "source": [
    "print(df.isna().sum())"
   ]
  },
  {
   "cell_type": "markdown",
   "metadata": {},
   "source": [
    "Пропуски: \n",
    "- 5 Наименований: данные строки подлежат удалению, т.к. без названия фильма эти строки теряют смысл\n",
    "- Остальные пропуски: будет использоваться замена данных\n",
    "    - release_year заменяется на среднее значение (2010.97)\n",
    "    - score заменяется на среднее значение (7.5)"
   ]
  },
  {
   "cell_type": "code",
   "execution_count": 215,
   "metadata": {},
   "outputs": [
    {
     "name": "stdout",
     "output_type": "stream",
     "text": [
      "title              0\n",
      "release_year       1\n",
      "score              1\n",
      "number_of_votes    0\n",
      "duration           0\n",
      "main_genre         0\n",
      "main_production    0\n",
      "dtype: int64\n",
      "\n",
      "\n",
      "title              0\n",
      "release_year       0\n",
      "score              0\n",
      "number_of_votes    0\n",
      "duration           0\n",
      "main_genre         0\n",
      "main_production    0\n",
      "dtype: int64\n"
     ]
    }
   ],
   "source": [
    "df = df.dropna(subset=['title'])\n",
    "\n",
    "print(df.isna().sum())\n",
    "print(\"\\n\")\n",
    "\n",
    "df['release_year'] = df['release_year'].fillna(2010.97)\n",
    "df['score'] = df['score'].fillna(7.5)\n",
    "\n",
    "print(df.isna().sum())"
   ]
  },
  {
   "cell_type": "markdown",
   "metadata": {},
   "source": [
    "# 8. Проверьте данные на наличие явных и неявных дубликатов. Удалите дубликаты, если они есть."
   ]
  },
  {
   "cell_type": "markdown",
   "metadata": {},
   "source": [
    "Поиск и удаление явных дубликатов"
   ]
  },
  {
   "cell_type": "code",
   "execution_count": 216,
   "metadata": {},
   "outputs": [
    {
     "name": "stdout",
     "output_type": "stream",
     "text": [
      "Количество дубликатов: 2\n",
      "Количество дубликатов: 0\n"
     ]
    }
   ],
   "source": [
    "df[df.duplicated()]\n",
    "print(f\"Количество дубликатов: {df.duplicated().sum()}\")\n",
    "\n",
    "df = df.drop_duplicates().reset_index()\n",
    "df = df.drop_duplicates().reset_index(drop=True)\n",
    "\n",
    "df[df.duplicated()]\n",
    "print(f\"Количество дубликатов: {df.duplicated().sum()}\")"
   ]
  },
  {
   "cell_type": "markdown",
   "metadata": {},
   "source": [
    "Поиск неявных дубликатов:"
   ]
  },
  {
   "cell_type": "code",
   "execution_count": 200,
   "metadata": {},
   "outputs": [
    {
     "name": "stdout",
     "output_type": "stream",
     "text": [
      "Количество уникальных жанров: 17\n",
      "\n",
      "['documentary' 'scifi' 'drama' 'comedy' 'western' 'action' 'crime'\n",
      " 'thriller' 'war' 'fantasy' 'romance' 'horror' 'animation' 'sports'\n",
      " 'COMEDY' 'dramaa' 'musical']\n"
     ]
    }
   ],
   "source": [
    "print(f\"Количество уникальных жанров: {df['main_genre'].unique().size}\\n\")\n",
    "print(df['main_genre'].unique())"
   ]
  },
  {
   "cell_type": "markdown",
   "metadata": {},
   "source": [
    "Неявные дубликаты: \n",
    "- Ошибка в слове \"dramaa\" (лишняя a)\n",
    "- COMEDY - нужно заменить на нижний регистр\n",
    "- scifi заменяется на sci-fi"
   ]
  },
  {
   "cell_type": "code",
   "execution_count": 201,
   "metadata": {},
   "outputs": [
    {
     "name": "stdout",
     "output_type": "stream",
     "text": [
      "Количество уникальных жанров: 15\n",
      "\n",
      "['documentary' 'sci-fi' 'drama' 'comedy' 'western' 'action' 'crime'\n",
      " 'thriller' 'war' 'fantasy' 'romance' 'horror' 'animation' 'sports'\n",
      " 'musical']\n"
     ]
    }
   ],
   "source": [
    "df['main_genre'] = df['main_genre'].replace('dramaa', 'drama')\n",
    "df['main_genre'] = df['main_genre'].str.lower() # Для приведения COMEDY к нижнему регистру, остальные жанры уже в lowercase\n",
    "df['main_genre'] = df['main_genre'].replace('scifi', 'sci-fi')\n",
    "\n",
    "print(f\"Количество уникальных жанров: {df['main_genre'].unique().size}\\n\")\n",
    "print(df['main_genre'].unique())"
   ]
  },
  {
   "cell_type": "markdown",
   "metadata": {},
   "source": [
    "# 9. Проверьте типы данных, при необходимости измените типы данных, чтобы они соответствовали действительности."
   ]
  },
  {
   "cell_type": "code",
   "execution_count": 202,
   "metadata": {},
   "outputs": [
    {
     "name": "stdout",
     "output_type": "stream",
     "text": [
      "<class 'pandas.core.frame.DataFrame'>\n",
      "RangeIndex: 382 entries, 0 to 381\n",
      "Data columns (total 8 columns):\n",
      " #   Column           Non-Null Count  Dtype  \n",
      "---  ------           --------------  -----  \n",
      " 0   index            382 non-null    int64  \n",
      " 1   title            382 non-null    object \n",
      " 2   release_year     382 non-null    float64\n",
      " 3   score            382 non-null    float64\n",
      " 4   number_of_votes  382 non-null    float64\n",
      " 5   duration         382 non-null    int64  \n",
      " 6   main_genre       382 non-null    object \n",
      " 7   main_production  382 non-null    object \n",
      "dtypes: float64(3), int64(2), object(3)\n",
      "memory usage: 24.0+ KB\n"
     ]
    }
   ],
   "source": [
    "df.info()"
   ]
  },
  {
   "cell_type": "markdown",
   "metadata": {},
   "source": [
    "release_year типа float64 меняем на int64\n",
    "number_of_votes типа float64 меняем на int64"
   ]
  },
  {
   "cell_type": "code",
   "execution_count": 203,
   "metadata": {},
   "outputs": [
    {
     "name": "stdout",
     "output_type": "stream",
     "text": [
      "<class 'pandas.core.frame.DataFrame'>\n",
      "RangeIndex: 382 entries, 0 to 381\n",
      "Data columns (total 8 columns):\n",
      " #   Column           Non-Null Count  Dtype  \n",
      "---  ------           --------------  -----  \n",
      " 0   index            382 non-null    int64  \n",
      " 1   title            382 non-null    object \n",
      " 2   release_year     382 non-null    int64  \n",
      " 3   score            382 non-null    float64\n",
      " 4   number_of_votes  382 non-null    int64  \n",
      " 5   duration         382 non-null    int64  \n",
      " 6   main_genre       382 non-null    object \n",
      " 7   main_production  382 non-null    object \n",
      "dtypes: float64(1), int64(4), object(3)\n",
      "memory usage: 24.0+ KB\n"
     ]
    }
   ],
   "source": [
    "df['release_year'] = df['release_year'].astype('int64')\n",
    "df['number_of_votes'] = df['number_of_votes'].astype('int64')\n",
    "\n",
    "df.info()"
   ]
  },
  {
   "cell_type": "markdown",
   "metadata": {},
   "source": [
    "# 10. Осуществите группировки и создайте сводные таблицы в соответствии с вариантом."
   ]
  },
  {
   "cell_type": "markdown",
   "metadata": {},
   "source": [
    "Задание 1 : Группировка - год выхода и количество фильмов каждого жанра (main_genre)"
   ]
  },
  {
   "cell_type": "code",
   "execution_count": 204,
   "metadata": {},
   "outputs": [
    {
     "name": "stdout",
     "output_type": "stream",
     "text": [
      "release_year  main_genre\n",
      "1954          romance       1\n",
      "1961          war           1\n",
      "1964          drama         1\n",
      "1966          western       1\n",
      "1967          drama         1\n",
      "                           ..\n",
      "2021          thriller      2\n",
      "2022          comedy        1\n",
      "              crime         1\n",
      "              drama         2\n",
      "              romance       1\n",
      "Name: index, Length: 165, dtype: int64\n"
     ]
    }
   ],
   "source": [
    "print(df.groupby(['release_year', 'main_genre'])['index'].count())"
   ]
  },
  {
   "cell_type": "markdown",
   "metadata": {},
   "source": [
    "2. Группировка - год выхода и количество фильмов каждого жанра (main_genre). Создать датафрейм. Переименовать столбец с количеством в “сount”. Отсортировать по убыванию столбца “count”. "
   ]
  },
  {
   "cell_type": "code",
   "execution_count": 205,
   "metadata": {},
   "outputs": [
    {
     "name": "stdout",
     "output_type": "stream",
     "text": [
      "     release_year main_genre  count\n",
      "122          2017      drama     13\n",
      "140          2019      drama     13\n",
      "148          2020      drama      9\n",
      "104          2015      drama      9\n",
      "156          2021      drama      9\n",
      "..            ...        ...    ...\n",
      "46           2004     comedy      1\n",
      "45           2003   thriller      1\n",
      "43           2003      crime      1\n",
      "42           2003     comedy      1\n",
      "164          2022    romance      1\n",
      "\n",
      "[165 rows x 3 columns]\n"
     ]
    }
   ],
   "source": [
    "# Группировка - год выхода и количество фильмов каждого жанра (main_genre) и создание датафрейма\n",
    "df_task2 = df.groupby(['release_year', 'main_genre'])['index'].count().reset_index()\n",
    "\n",
    "# Переименование столбца\n",
    "df_task2 = df_task2.rename(columns={'index': 'count'})\n",
    "\n",
    "# Сортировка по убыванию столбца \"count\"\n",
    "df_task2 = df_task2.sort_values(by='count', ascending=False)\n",
    "\n",
    "print(df_task2)"
   ]
  },
  {
   "cell_type": "markdown",
   "metadata": {},
   "source": [
    "3. Сводная таблица (pivot_table) - средний рейтинг (score) фильмов по жанрам. Отсортировать по убыванию рейтинга. Округлить до двух знаков."
   ]
  },
  {
   "cell_type": "code",
   "execution_count": 206,
   "metadata": {},
   "outputs": [
    {
     "name": "stdout",
     "output_type": "stream",
     "text": [
      "             score\n",
      "main_genre        \n",
      "war           7.80\n",
      "sci-fi        7.77\n",
      "documentary   7.76\n",
      "action        7.70\n",
      "comedy        7.61\n",
      "western       7.56\n",
      "fantasy       7.48\n",
      "drama         7.48\n",
      "crime         7.47\n",
      "thriller      7.47\n",
      "romance       7.40\n",
      "sports        7.40\n",
      "horror        7.35\n",
      "animation     7.20\n",
      "musical       7.00\n"
     ]
    }
   ],
   "source": [
    "# Создание сводной таблицы с приведенным рейтингом фильмов по жанрам. Берём среднее значение\n",
    "pivot_table = pd.pivot_table(df, values='score', index='main_genre', aggfunc='mean')\n",
    "\n",
    "# Сортировка по убыванию рейтинга\n",
    "pivot_table = pivot_table.sort_values(by='score', ascending=False)\n",
    "\n",
    "# Округление до 2 знаков после запятой\n",
    "pivot_table = pivot_table.round(2)\n",
    "\n",
    "print(pivot_table)"
   ]
  },
  {
   "cell_type": "markdown",
   "metadata": {},
   "source": [
    "4. Сводная таблица (pivot_table) - средний рейтинг (score) фильмов по жанрам - строки и годам - столбцы. Отсортировать по возрастанию main_genre."
   ]
  },
  {
   "cell_type": "code",
   "execution_count": 207,
   "metadata": {},
   "outputs": [
    {
     "name": "stdout",
     "output_type": "stream",
     "text": [
      "release_year  1954  1961  1964  1966  1967  1971  1973  1975  1976  1979  ...  \\\n",
      "main_genre                                                                ...   \n",
      "action         NaN   NaN   NaN   NaN   NaN   NaN   NaN   NaN   NaN   NaN  ...   \n",
      "animation      NaN   NaN   NaN   NaN   NaN   NaN   NaN   NaN   NaN   NaN  ...   \n",
      "comedy         NaN   NaN   NaN   NaN   NaN   NaN   NaN   8.2   NaN   7.8  ...   \n",
      "crime          NaN   NaN   NaN   NaN   NaN   NaN   NaN   NaN   8.3   NaN  ...   \n",
      "documentary    NaN   NaN   NaN   NaN   NaN   NaN   NaN   NaN   NaN   NaN  ...   \n",
      "drama          NaN   NaN   7.8   NaN   7.7   NaN   NaN   NaN   NaN   NaN  ...   \n",
      "fantasy        NaN   NaN   NaN   NaN   NaN   NaN   NaN   NaN   NaN   NaN  ...   \n",
      "horror         NaN   NaN   NaN   NaN   NaN   NaN   8.1   NaN   NaN   NaN  ...   \n",
      "musical        NaN   NaN   NaN   NaN   NaN   NaN   NaN   NaN   NaN   NaN  ...   \n",
      "romance        7.5   NaN   NaN   NaN   NaN   NaN   NaN   NaN   NaN   NaN  ...   \n",
      "sci-fi         NaN   NaN   NaN   NaN   NaN   NaN   NaN   NaN   NaN   NaN  ...   \n",
      "sports         NaN   NaN   NaN   NaN   NaN   NaN   NaN   NaN   NaN   NaN  ...   \n",
      "thriller       NaN   NaN   NaN   NaN   NaN   7.7   NaN   NaN   NaN   NaN  ...   \n",
      "war            NaN   7.5   NaN   NaN   NaN   NaN   NaN   NaN   NaN   NaN  ...   \n",
      "western        NaN   NaN   NaN   7.3   NaN   NaN   NaN   NaN   NaN   NaN  ...   \n",
      "\n",
      "release_year  2013  2014  2015  2016  2017  2018  2019  2020  2021  2022  \n",
      "main_genre                                                                \n",
      "action         NaN   NaN  7.80  8.40   NaN   NaN   NaN   NaN  8.10   NaN  \n",
      "animation      NaN   NaN   NaN  7.10   NaN   NaN   NaN   NaN  7.60   NaN  \n",
      "comedy        7.60  7.38  7.20  7.62  7.40  7.97  7.75  6.90  7.75   7.3  \n",
      "crime          NaN  7.80   NaN  7.27  7.20   NaN  8.20  7.40  7.15   7.2  \n",
      "documentary    NaN  8.05  8.30  8.20  7.73  7.60  7.30  8.02  7.95   NaN  \n",
      "drama         7.67  7.54  7.28  7.18  7.27  7.26  7.47  7.21  7.21   7.5  \n",
      "fantasy        NaN  7.80   NaN  7.50  7.85  7.10  7.50   NaN  7.20   NaN  \n",
      "horror         NaN   NaN   NaN  7.00   NaN  7.60  7.00   NaN   NaN   NaN  \n",
      "musical       7.10   NaN   NaN   NaN  7.00   NaN   NaN  6.90   NaN   NaN  \n",
      "romance       6.90   NaN   NaN  7.70  7.45  7.20  7.20   NaN   NaN   6.9  \n",
      "sci-fi         NaN   NaN   NaN   NaN  8.00  7.10   NaN   NaN  7.20   NaN  \n",
      "sports         NaN   NaN   NaN   NaN   NaN   NaN   NaN   NaN  7.40   NaN  \n",
      "thriller      7.68  7.75  7.73  7.28  7.54  7.36  7.42  7.20  7.55   NaN  \n",
      "war            NaN  8.20  7.70   NaN   NaN   NaN   NaN   NaN   NaN   NaN  \n",
      "western        NaN   NaN  7.80  7.60   NaN  7.30   NaN   NaN   NaN   NaN  \n",
      "\n",
      "[15 rows x 49 columns]\n"
     ]
    }
   ],
   "source": [
    "# Создание сводной таблицы с рейтингом фильмов по жанрам и годам\n",
    "pivot_table2 = pd.pivot_table(df, values='score', index='main_genre', columns='release_year', aggfunc='mean')\n",
    "\n",
    "# Сортируем по возрастанию main_genre\n",
    "pivot_table2 = pivot_table2.sort_index(ascending=True)\n",
    "\n",
    "# Округление до 2 знаков после запятой\n",
    "pivot_table2 = pivot_table2.round(2)\n",
    "\n",
    "print(pivot_table2)"
   ]
  }
 ],
 "metadata": {
  "kernelspec": {
   "display_name": "base",
   "language": "python",
   "name": "python3"
  },
  "language_info": {
   "codemirror_mode": {
    "name": "ipython",
    "version": 3
   },
   "file_extension": ".py",
   "mimetype": "text/x-python",
   "name": "python",
   "nbconvert_exporter": "python",
   "pygments_lexer": "ipython3",
   "version": "3.11.7"
  }
 },
 "nbformat": 4,
 "nbformat_minor": 2
}
